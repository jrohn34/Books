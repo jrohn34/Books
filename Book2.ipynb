{
 "cells": [
  {
   "cell_type": "code",
   "execution_count": 1,
   "id": "19fd3ca4-4d79-4cb1-92aa-479e7ccbb75b",
   "metadata": {},
   "outputs": [
    {
     "name": "stdout",
     "output_type": "stream",
     "text": [
      "Requirement already satisfied: sqlalchemy in /Users/JoshuaRohn/anaconda3/envs/dojo-env/lib/python3.10/site-packages (1.4.49)\n",
      "Requirement already satisfied: pymysql in /Users/JoshuaRohn/anaconda3/envs/dojo-env/lib/python3.10/site-packages (1.0.3)\n",
      "Requirement already satisfied: greenlet!=0.4.17 in /Users/JoshuaRohn/anaconda3/envs/dojo-env/lib/python3.10/site-packages (from sqlalchemy) (2.0.1)\n"
     ]
    }
   ],
   "source": [
    "!pip install sqlalchemy pymysql"
   ]
  },
  {
   "cell_type": "code",
   "execution_count": 17,
   "id": "70f72c6e-8007-4f1a-b91c-ffae0830fd39",
   "metadata": {},
   "outputs": [],
   "source": [
    "import pandas as pd\n",
    "from sqlalchemy import create_engine"
   ]
  },
  {
   "cell_type": "code",
   "execution_count": 18,
   "id": "f9963dc4-2b19-4a6c-b170-4e3595b3de2a",
   "metadata": {},
   "outputs": [],
   "source": [
    "host = 'localhost'\n",
    "user = 'root'\n",
    "password = 'Lawrence12'\n",
    "database = 'Books_2'"
   ]
  },
  {
   "cell_type": "code",
   "execution_count": 19,
   "id": "f62c3069-bbf8-4bca-a3c8-fb48761611a6",
   "metadata": {},
   "outputs": [],
   "source": [
    "connection_string = f'mysql+pymysql://{user}:{password}@{host}/{database}?charset=utf8mb4&binary_prefix=true'\n",
    "engine = create_engine(connection_string)"
   ]
  },
  {
   "cell_type": "code",
   "execution_count": 20,
   "id": "c570150b-9334-487a-86e2-8ebcf19ecc85",
   "metadata": {},
   "outputs": [],
   "source": [
    "users_df = pd.read_csv('users.csv')\n",
    "books_df = pd.read_csv('books.csv')\n",
    "authors_df = pd.read_csv('authors.csv')\n",
    "favorites_df = pd.read_csv('favorites.csv')"
   ]
  },
  {
   "cell_type": "code",
   "execution_count": 21,
   "id": "fdd02686-13c1-4300-bd51-5d5cb990fb84",
   "metadata": {},
   "outputs": [],
   "source": [
    "table_names = ['users', 'books', 'authors', 'favorites']\n",
    "\n",
    "# Define a list of DataFrames\n",
    "data_frames = [users_df, books_df, authors_df, favorites_df]\n",
    "\n",
    "# Create tables and insert data\n",
    "for table_name, df in zip(table_names, data_frames):\n",
    "    df.to_sql(table_name, engine, if_exists='replace', index=False)"
   ]
  },
  {
   "cell_type": "code",
   "execution_count": 22,
   "id": "5533a188-2b3c-4527-8a73-880472b63ff9",
   "metadata": {},
   "outputs": [],
   "source": [
    "cnx = mysql.connector.connect(\n",
    "    host=host,\n",
    "    user=user,\n",
    "    password=password,\n",
    "    database=database\n",
    ")"
   ]
  },
  {
   "cell_type": "code",
   "execution_count": 23,
   "id": "f1c3ccf8-1c19-4470-a663-f06b0d40da6c",
   "metadata": {},
   "outputs": [],
   "source": [
    "cursor = cnx.cursor()"
   ]
  },
  {
   "cell_type": "code",
   "execution_count": 26,
   "id": "ad2de4a1-14cf-4404-8988-d4b7d96fd091",
   "metadata": {},
   "outputs": [],
   "source": [
    "query = \"\"\"\n",
    "SELECT b.title\n",
    "FROM users u\n",
    "JOIN favorites f ON u.id = f.user_id\n",
    "JOIN books b ON f.book_id = b.id\n",
    "WHERE u.first_name = 'John' AND u.last_name = 'Doe';\n",
    "\"\"\""
   ]
  },
  {
   "cell_type": "code",
   "execution_count": 27,
   "id": "89b998d4-f2cb-4307-ac82-8ade0e7d0435",
   "metadata": {},
   "outputs": [],
   "source": [
    "cursor.execute(query)"
   ]
  },
  {
   "cell_type": "code",
   "execution_count": 28,
   "id": "614e8ec0-2db2-49e4-b947-2758c6e4ac38",
   "metadata": {},
   "outputs": [
    {
     "name": "stdout",
     "output_type": "stream",
     "text": [
      "The Shining\n",
      "It\n",
      "The Great Gatsby\n"
     ]
    }
   ],
   "source": [
    "for (title,) in cursor:\n",
    "    print(title)"
   ]
  }
 ],
 "metadata": {
  "kernelspec": {
   "display_name": "Python 3 (ipykernel)",
   "language": "python",
   "name": "python3"
  },
  "language_info": {
   "codemirror_mode": {
    "name": "ipython",
    "version": 3
   },
   "file_extension": ".py",
   "mimetype": "text/x-python",
   "name": "python",
   "nbconvert_exporter": "python",
   "pygments_lexer": "ipython3",
   "version": "3.10.10"
  }
 },
 "nbformat": 4,
 "nbformat_minor": 5
}
