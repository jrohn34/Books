{
 "cells": [
  {
   "cell_type": "code",
   "execution_count": 28,
   "id": "b2f47a87-61db-4a4c-b8a7-ed53f8088bb2",
   "metadata": {},
   "outputs": [
    {
     "name": "stdout",
     "output_type": "stream",
     "text": [
      "/bin/bash: -c: line 0: syntax error near unexpected token `/Users/JoshuaRohn/Documents/GitHub/Books/ERD.png'\n",
      "/bin/bash: -c: line 0: `[ERD](/Users/JoshuaRohn/Documents/GitHub/Books/ERD.png)'\n"
     ]
    }
   ],
   "source": [
    "![ERD](/Users/JoshuaRohn/Documents/GitHub/Books/ERD.png)"
   ]
  },
  {
   "cell_type": "code",
   "execution_count": 10,
   "id": "b33d2103-15f1-430d-b2d5-e73249a126e1",
   "metadata": {},
   "outputs": [],
   "source": [
    "import mysql.connector\n",
    "import pandas as pd"
   ]
  },
  {
   "cell_type": "code",
   "execution_count": 11,
   "id": "e013ea1c-2931-4021-916d-1369b9a6864d",
   "metadata": {},
   "outputs": [],
   "source": [
    "cnx = mysql.connector.connect(\n",
    "    host=\"localhost\",\n",
    "    user=\"root\",\n",
    "    password=\"Lawrence12\",\n",
    "    database=\"Book\"\n",
    ")"
   ]
  },
  {
   "cell_type": "code",
   "execution_count": 12,
   "id": "9572b252-9cab-49dd-80ce-2b895db92c71",
   "metadata": {},
   "outputs": [],
   "source": [
    "cursor = cnx.cursor()"
   ]
  },
  {
   "cell_type": "code",
   "execution_count": 13,
   "id": "221c3077-af43-4712-a238-b7d2bf88b638",
   "metadata": {},
   "outputs": [],
   "source": [
    "cursor.execute(\"SHOW TABLES;\")"
   ]
  },
  {
   "cell_type": "code",
   "execution_count": 14,
   "id": "4398a321-8b70-4ec1-95de-ffd48bd238f5",
   "metadata": {},
   "outputs": [],
   "source": [
    "table_names = cursor.fetchall()"
   ]
  },
  {
   "cell_type": "code",
   "execution_count": 15,
   "id": "4c006bbe-85fb-4bdf-ab3c-b03f7562be78",
   "metadata": {},
   "outputs": [
    {
     "name": "stdout",
     "output_type": "stream",
     "text": [
      "authors\n",
      "books\n",
      "favorites\n",
      "user\n"
     ]
    }
   ],
   "source": [
    "for table in table_names:\n",
    "    print(table[0])"
   ]
  },
  {
   "cell_type": "code",
   "execution_count": 23,
   "id": "0ea5733c-c7f5-4287-b3a1-b4b4537157d5",
   "metadata": {},
   "outputs": [],
   "source": [
    "query = \"\"\"\n",
    "SELECT B.title AS BookTitle, A.author_name AS AuthorName\n",
    "FROM user U\n",
    "JOIN favorites F ON U.id = F.user_id\n",
    "JOIN books B ON F.book_id = B.id\n",
    "JOIN authors A ON B.author_id = A.id\n",
    "WHERE U.first_name = 'John' AND U.last_name = 'Doe';\n",
    "\"\"\""
   ]
  },
  {
   "cell_type": "code",
   "execution_count": 24,
   "id": "bdb1370d-69cf-4008-b27c-f278b1ae18b2",
   "metadata": {},
   "outputs": [],
   "source": [
    "cursor.execute(query)"
   ]
  },
  {
   "cell_type": "code",
   "execution_count": 25,
   "id": "9a9e4d10-c6d2-42bd-8c0c-bea37053e7be",
   "metadata": {},
   "outputs": [
    {
     "name": "stdout",
     "output_type": "stream",
     "text": [
      "Book Title: It, Author Name: Stephen King\n",
      "Book Title: The Shining, Author Name: Stephen King\n",
      "Book Title: The Great Gatsby, Author Name: F.Scott Fitgerald\n"
     ]
    }
   ],
   "source": [
    "results = cursor.fetchall()\n",
    "for row in results:\n",
    "    book_title, author_name = row\n",
    "    print(f\"Book Title: {book_title}, Author Name: {author_name}\")"
   ]
  }
 ],
 "metadata": {
  "kernelspec": {
   "display_name": "Python 3 (ipykernel)",
   "language": "python",
   "name": "python3"
  },
  "language_info": {
   "codemirror_mode": {
    "name": "ipython",
    "version": 3
   },
   "file_extension": ".py",
   "mimetype": "text/x-python",
   "name": "python",
   "nbconvert_exporter": "python",
   "pygments_lexer": "ipython3",
   "version": "3.10.10"
  }
 },
 "nbformat": 4,
 "nbformat_minor": 5
}
